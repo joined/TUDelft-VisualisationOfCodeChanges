{
 "cells": [
  {
   "cell_type": "code",
   "execution_count": 1,
   "metadata": {},
   "outputs": [],
   "source": [
    "import pandas as pd\n",
    "import numpy as np\n",
    "import matplotlib.pyplot as plt\n",
    "import seaborn as sns; sns.set()\n",
    "from collections import Counter, OrderedDict"
   ]
  },
  {
   "cell_type": "code",
   "execution_count": 2,
   "metadata": {},
   "outputs": [
    {
     "data": {
      "text/html": [
       "<div>\n",
       "<style scoped>\n",
       "    .dataframe tbody tr th:only-of-type {\n",
       "        vertical-align: middle;\n",
       "    }\n",
       "\n",
       "    .dataframe tbody tr th {\n",
       "        vertical-align: top;\n",
       "    }\n",
       "\n",
       "    .dataframe thead th {\n",
       "        text-align: right;\n",
       "    }\n",
       "</style>\n",
       "<table border=\"1\" class=\"dataframe\">\n",
       "  <thead>\n",
       "    <tr style=\"text-align: right;\">\n",
       "      <th></th>\n",
       "      <th>Response ID</th>\n",
       "      <th>Time Started</th>\n",
       "      <th>Date Submitted</th>\n",
       "      <th>Status</th>\n",
       "      <th>Contact ID</th>\n",
       "      <th>Legacy Comments</th>\n",
       "      <th>Comments</th>\n",
       "      <th>Language</th>\n",
       "      <th>Referer</th>\n",
       "      <th>Extended Referer</th>\n",
       "      <th>...</th>\n",
       "      <th>remarks_proto3</th>\n",
       "      <th>Do you want to evaluate another prototype?.2</th>\n",
       "      <th>PageOrder.2</th>\n",
       "      <th>Prototype 1:final_ranking</th>\n",
       "      <th>Prototype 2:final_ranking</th>\n",
       "      <th>Prototype 3:final_ranking</th>\n",
       "      <th>general_comments</th>\n",
       "      <th>keepinformed_results</th>\n",
       "      <th>contactforadditionalquestions</th>\n",
       "      <th>emailaddress</th>\n",
       "    </tr>\n",
       "  </thead>\n",
       "  <tbody>\n",
       "    <tr>\n",
       "      <th>0</th>\n",
       "      <td>10</td>\n",
       "      <td>Apr 10, 2018 10:59:02</td>\n",
       "      <td>Apr 10, 2018 11:46:44</td>\n",
       "      <td>Complete</td>\n",
       "      <td>NaN</td>\n",
       "      <td>NaN</td>\n",
       "      <td>Ajay</td>\n",
       "      <td>English</td>\n",
       "      <td>NaN</td>\n",
       "      <td>NaN</td>\n",
       "      <td>...</td>\n",
       "      <td>NaN</td>\n",
       "      <td>Yes</td>\n",
       "      <td>1,3,4,6</td>\n",
       "      <td>NaN</td>\n",
       "      <td>NaN</td>\n",
       "      <td>NaN</td>\n",
       "      <td>NaN</td>\n",
       "      <td>No</td>\n",
       "      <td>No</td>\n",
       "      <td>NaN</td>\n",
       "    </tr>\n",
       "    <tr>\n",
       "      <th>1</th>\n",
       "      <td>11</td>\n",
       "      <td>Apr 10, 2018 12:15:32</td>\n",
       "      <td>Apr 10, 2018 12:54:00</td>\n",
       "      <td>Complete</td>\n",
       "      <td>NaN</td>\n",
       "      <td>NaN</td>\n",
       "      <td>Vasilis</td>\n",
       "      <td>English</td>\n",
       "      <td>NaN</td>\n",
       "      <td>NaN</td>\n",
       "      <td>...</td>\n",
       "      <td>NaN</td>\n",
       "      <td>NaN</td>\n",
       "      <td>1,3,4,7,5,6</td>\n",
       "      <td>NaN</td>\n",
       "      <td>NaN</td>\n",
       "      <td>NaN</td>\n",
       "      <td>I guess it would be valuable to have some ques...</td>\n",
       "      <td>Yes</td>\n",
       "      <td>Yes</td>\n",
       "      <td>milias.vasilis@gmail.com</td>\n",
       "    </tr>\n",
       "    <tr>\n",
       "      <th>2</th>\n",
       "      <td>12</td>\n",
       "      <td>Apr 11, 2018 10:30:39</td>\n",
       "      <td>Apr 11, 2018 11:43:33</td>\n",
       "      <td>Complete</td>\n",
       "      <td>NaN</td>\n",
       "      <td>NaN</td>\n",
       "      <td>Harris</td>\n",
       "      <td>English</td>\n",
       "      <td>NaN</td>\n",
       "      <td>NaN</td>\n",
       "      <td>...</td>\n",
       "      <td>NaN</td>\n",
       "      <td>NaN</td>\n",
       "      <td>NaN</td>\n",
       "      <td>NaN</td>\n",
       "      <td>NaN</td>\n",
       "      <td>NaN</td>\n",
       "      <td>NaN</td>\n",
       "      <td>Yes</td>\n",
       "      <td>Yes</td>\n",
       "      <td>c.valsamos@student.tudelft.nl</td>\n",
       "    </tr>\n",
       "    <tr>\n",
       "      <th>4</th>\n",
       "      <td>14</td>\n",
       "      <td>Apr 11, 2018 14:42:59</td>\n",
       "      <td>Apr 11, 2018 16:59:58</td>\n",
       "      <td>Complete</td>\n",
       "      <td>NaN</td>\n",
       "      <td>NaN</td>\n",
       "      <td>NaN</td>\n",
       "      <td>English</td>\n",
       "      <td>NaN</td>\n",
       "      <td>NaN</td>\n",
       "      <td>...</td>\n",
       "      <td>NaN</td>\n",
       "      <td>Yes</td>\n",
       "      <td>1,3,4,6</td>\n",
       "      <td>NaN</td>\n",
       "      <td>NaN</td>\n",
       "      <td>NaN</td>\n",
       "      <td>NaN</td>\n",
       "      <td>Yes</td>\n",
       "      <td>Yes</td>\n",
       "      <td>p.omidkhoda@student.tudelft.nl</td>\n",
       "    </tr>\n",
       "    <tr>\n",
       "      <th>5</th>\n",
       "      <td>15</td>\n",
       "      <td>Apr 11, 2018 17:28:45</td>\n",
       "      <td>Apr 11, 2018 17:54:26</td>\n",
       "      <td>Complete</td>\n",
       "      <td>NaN</td>\n",
       "      <td>NaN</td>\n",
       "      <td>NaN</td>\n",
       "      <td>English</td>\n",
       "      <td>NaN</td>\n",
       "      <td>NaN</td>\n",
       "      <td>...</td>\n",
       "      <td>NaN</td>\n",
       "      <td>Yes</td>\n",
       "      <td>1,3,4,7,6</td>\n",
       "      <td>NaN</td>\n",
       "      <td>NaN</td>\n",
       "      <td>NaN</td>\n",
       "      <td>NaN</td>\n",
       "      <td>No</td>\n",
       "      <td>No</td>\n",
       "      <td>NaN</td>\n",
       "    </tr>\n",
       "    <tr>\n",
       "      <th>8</th>\n",
       "      <td>18</td>\n",
       "      <td>Apr 12, 2018 09:59:57</td>\n",
       "      <td>Apr 12, 2018 10:22:46</td>\n",
       "      <td>Complete</td>\n",
       "      <td>NaN</td>\n",
       "      <td>NaN</td>\n",
       "      <td>NaN</td>\n",
       "      <td>English</td>\n",
       "      <td>NaN</td>\n",
       "      <td>NaN</td>\n",
       "      <td>...</td>\n",
       "      <td>NaN</td>\n",
       "      <td>Yes</td>\n",
       "      <td>1,3,4,6</td>\n",
       "      <td>NaN</td>\n",
       "      <td>NaN</td>\n",
       "      <td>NaN</td>\n",
       "      <td>NaN</td>\n",
       "      <td>Yes</td>\n",
       "      <td>Yes</td>\n",
       "      <td>gnnspap7@gmail.com</td>\n",
       "    </tr>\n",
       "    <tr>\n",
       "      <th>9</th>\n",
       "      <td>19</td>\n",
       "      <td>Apr 12, 2018 12:49:51</td>\n",
       "      <td>Apr 12, 2018 13:10:28</td>\n",
       "      <td>Complete</td>\n",
       "      <td>NaN</td>\n",
       "      <td>NaN</td>\n",
       "      <td>NaN</td>\n",
       "      <td>English</td>\n",
       "      <td>NaN</td>\n",
       "      <td>NaN</td>\n",
       "      <td>...</td>\n",
       "      <td>I think it would be nice to add an option to c...</td>\n",
       "      <td>Yes</td>\n",
       "      <td>1,3,4,5,6</td>\n",
       "      <td>NaN</td>\n",
       "      <td>NaN</td>\n",
       "      <td>NaN</td>\n",
       "      <td>NaN</td>\n",
       "      <td>Yes</td>\n",
       "      <td>Yes</td>\n",
       "      <td>e.fregnan@student.tudelft.nl</td>\n",
       "    </tr>\n",
       "    <tr>\n",
       "      <th>10</th>\n",
       "      <td>20</td>\n",
       "      <td>Apr 12, 2018 13:57:51</td>\n",
       "      <td>Apr 12, 2018 14:14:56</td>\n",
       "      <td>Complete</td>\n",
       "      <td>NaN</td>\n",
       "      <td>NaN</td>\n",
       "      <td>NaN</td>\n",
       "      <td>English</td>\n",
       "      <td>NaN</td>\n",
       "      <td>NaN</td>\n",
       "      <td>...</td>\n",
       "      <td>I find this tool much easier than the first on...</td>\n",
       "      <td>Yes</td>\n",
       "      <td>1,3,4,5,6</td>\n",
       "      <td>NaN</td>\n",
       "      <td>NaN</td>\n",
       "      <td>NaN</td>\n",
       "      <td>NaN</td>\n",
       "      <td>Yes</td>\n",
       "      <td>Yes</td>\n",
       "      <td>d.spadini@sig.eu</td>\n",
       "    </tr>\n",
       "    <tr>\n",
       "      <th>20</th>\n",
       "      <td>30</td>\n",
       "      <td>Apr 14, 2018 22:00:26</td>\n",
       "      <td>Apr 14, 2018 22:53:51</td>\n",
       "      <td>Complete</td>\n",
       "      <td>NaN</td>\n",
       "      <td>NaN</td>\n",
       "      <td>NaN</td>\n",
       "      <td>English</td>\n",
       "      <td>NaN</td>\n",
       "      <td>NaN</td>\n",
       "      <td>...</td>\n",
       "      <td>This prototype basically only shows call graph...</td>\n",
       "      <td>Yes</td>\n",
       "      <td>1,3,4,7,6</td>\n",
       "      <td>NaN</td>\n",
       "      <td>NaN</td>\n",
       "      <td>NaN</td>\n",
       "      <td>NaN</td>\n",
       "      <td>Yes</td>\n",
       "      <td>Yes</td>\n",
       "      <td>S.Y.vandenOever@student.tudelft.nl</td>\n",
       "    </tr>\n",
       "    <tr>\n",
       "      <th>22</th>\n",
       "      <td>37</td>\n",
       "      <td>Apr 23, 2018 11:43:38</td>\n",
       "      <td>Apr 23, 2018 12:09:07</td>\n",
       "      <td>Complete</td>\n",
       "      <td>NaN</td>\n",
       "      <td>NaN</td>\n",
       "      <td>NaN</td>\n",
       "      <td>English</td>\n",
       "      <td>NaN</td>\n",
       "      <td>NaN</td>\n",
       "      <td>...</td>\n",
       "      <td>NaN</td>\n",
       "      <td>Yes</td>\n",
       "      <td>1,3,4,6</td>\n",
       "      <td>2.0</td>\n",
       "      <td>1.0</td>\n",
       "      <td>3.0</td>\n",
       "      <td>NaN</td>\n",
       "      <td>Yes</td>\n",
       "      <td>Yes</td>\n",
       "      <td>saberferjani@gmail.com</td>\n",
       "    </tr>\n",
       "    <tr>\n",
       "      <th>52</th>\n",
       "      <td>67</td>\n",
       "      <td>Apr 27, 2018 22:24:48</td>\n",
       "      <td>Apr 27, 2018 22:47:06</td>\n",
       "      <td>Complete</td>\n",
       "      <td>NaN</td>\n",
       "      <td>NaN</td>\n",
       "      <td>NaN</td>\n",
       "      <td>English</td>\n",
       "      <td>https://www.linkedin.com/feed/</td>\n",
       "      <td>https://www.linkedin.com/feed/</td>\n",
       "      <td>...</td>\n",
       "      <td>NaN</td>\n",
       "      <td>NaN</td>\n",
       "      <td>1,3,4,5,7,6</td>\n",
       "      <td>1.0</td>\n",
       "      <td>3.0</td>\n",
       "      <td>2.0</td>\n",
       "      <td>NaN</td>\n",
       "      <td>No</td>\n",
       "      <td>No</td>\n",
       "      <td>NaN</td>\n",
       "    </tr>\n",
       "    <tr>\n",
       "      <th>62</th>\n",
       "      <td>79</td>\n",
       "      <td>Apr 30, 2018 19:11:05</td>\n",
       "      <td>Apr 30, 2018 19:22:06</td>\n",
       "      <td>Complete</td>\n",
       "      <td>NaN</td>\n",
       "      <td>NaN</td>\n",
       "      <td>NaN</td>\n",
       "      <td>English</td>\n",
       "      <td>https://www.reddit.com/r/learnprogramming/comm...</td>\n",
       "      <td>https://www.reddit.com/r/learnprogramming/comm...</td>\n",
       "      <td>...</td>\n",
       "      <td>NaN</td>\n",
       "      <td>NaN</td>\n",
       "      <td>NaN</td>\n",
       "      <td>NaN</td>\n",
       "      <td>NaN</td>\n",
       "      <td>NaN</td>\n",
       "      <td>Why was I supposed to review prototypes? I tho...</td>\n",
       "      <td>No</td>\n",
       "      <td>No</td>\n",
       "      <td>NaN</td>\n",
       "    </tr>\n",
       "    <tr>\n",
       "      <th>65</th>\n",
       "      <td>82</td>\n",
       "      <td>Apr 30, 2018 21:19:51</td>\n",
       "      <td>Apr 30, 2018 21:26:24</td>\n",
       "      <td>Complete</td>\n",
       "      <td>NaN</td>\n",
       "      <td>NaN</td>\n",
       "      <td>NaN</td>\n",
       "      <td>English</td>\n",
       "      <td>https://www.reddit.com/r/ItalyInformatica/comm...</td>\n",
       "      <td>https://www.reddit.com/r/ItalyInformatica/comm...</td>\n",
       "      <td>...</td>\n",
       "      <td>NaN</td>\n",
       "      <td>NaN</td>\n",
       "      <td>NaN</td>\n",
       "      <td>NaN</td>\n",
       "      <td>NaN</td>\n",
       "      <td>NaN</td>\n",
       "      <td>NaN</td>\n",
       "      <td>No</td>\n",
       "      <td>No</td>\n",
       "      <td>NaN</td>\n",
       "    </tr>\n",
       "    <tr>\n",
       "      <th>76</th>\n",
       "      <td>93</td>\n",
       "      <td>May 2, 2018 16:54:59</td>\n",
       "      <td>May 2, 2018 17:24:47</td>\n",
       "      <td>Complete</td>\n",
       "      <td>NaN</td>\n",
       "      <td>NaN</td>\n",
       "      <td>NaN</td>\n",
       "      <td>English</td>\n",
       "      <td>NaN</td>\n",
       "      <td>NaN</td>\n",
       "      <td>...</td>\n",
       "      <td>NaN</td>\n",
       "      <td>Yes</td>\n",
       "      <td>1,3,6,6</td>\n",
       "      <td>1.0</td>\n",
       "      <td>2.0</td>\n",
       "      <td>3.0</td>\n",
       "      <td>NaN</td>\n",
       "      <td>No</td>\n",
       "      <td>No</td>\n",
       "      <td>NaN</td>\n",
       "    </tr>\n",
       "    <tr>\n",
       "      <th>79</th>\n",
       "      <td>96</td>\n",
       "      <td>May 2, 2018 18:53:23</td>\n",
       "      <td>May 2, 2018 19:10:00</td>\n",
       "      <td>Complete</td>\n",
       "      <td>NaN</td>\n",
       "      <td>NaN</td>\n",
       "      <td>NaN</td>\n",
       "      <td>English</td>\n",
       "      <td>NaN</td>\n",
       "      <td>NaN</td>\n",
       "      <td>...</td>\n",
       "      <td>NaN</td>\n",
       "      <td>NaN</td>\n",
       "      <td>1,3,7,5,6</td>\n",
       "      <td>2.0</td>\n",
       "      <td>1.0</td>\n",
       "      <td>3.0</td>\n",
       "      <td>NaN</td>\n",
       "      <td>No</td>\n",
       "      <td>No</td>\n",
       "      <td>NaN</td>\n",
       "    </tr>\n",
       "  </tbody>\n",
       "</table>\n",
       "<p>15 rows × 127 columns</p>\n",
       "</div>"
      ],
      "text/plain": [
       "    Response ID           Time Started         Date Submitted    Status  \\\n",
       "0            10  Apr 10, 2018 10:59:02  Apr 10, 2018 11:46:44  Complete   \n",
       "1            11  Apr 10, 2018 12:15:32  Apr 10, 2018 12:54:00  Complete   \n",
       "2            12  Apr 11, 2018 10:30:39  Apr 11, 2018 11:43:33  Complete   \n",
       "4            14  Apr 11, 2018 14:42:59  Apr 11, 2018 16:59:58  Complete   \n",
       "5            15  Apr 11, 2018 17:28:45  Apr 11, 2018 17:54:26  Complete   \n",
       "8            18  Apr 12, 2018 09:59:57  Apr 12, 2018 10:22:46  Complete   \n",
       "9            19  Apr 12, 2018 12:49:51  Apr 12, 2018 13:10:28  Complete   \n",
       "10           20  Apr 12, 2018 13:57:51  Apr 12, 2018 14:14:56  Complete   \n",
       "20           30  Apr 14, 2018 22:00:26  Apr 14, 2018 22:53:51  Complete   \n",
       "22           37  Apr 23, 2018 11:43:38  Apr 23, 2018 12:09:07  Complete   \n",
       "52           67  Apr 27, 2018 22:24:48  Apr 27, 2018 22:47:06  Complete   \n",
       "62           79  Apr 30, 2018 19:11:05  Apr 30, 2018 19:22:06  Complete   \n",
       "65           82  Apr 30, 2018 21:19:51  Apr 30, 2018 21:26:24  Complete   \n",
       "76           93   May 2, 2018 16:54:59   May 2, 2018 17:24:47  Complete   \n",
       "79           96   May 2, 2018 18:53:23   May 2, 2018 19:10:00  Complete   \n",
       "\n",
       "    Contact ID  Legacy Comments Comments Language  \\\n",
       "0          NaN              NaN     Ajay  English   \n",
       "1          NaN              NaN  Vasilis  English   \n",
       "2          NaN              NaN   Harris  English   \n",
       "4          NaN              NaN      NaN  English   \n",
       "5          NaN              NaN      NaN  English   \n",
       "8          NaN              NaN      NaN  English   \n",
       "9          NaN              NaN      NaN  English   \n",
       "10         NaN              NaN      NaN  English   \n",
       "20         NaN              NaN      NaN  English   \n",
       "22         NaN              NaN      NaN  English   \n",
       "52         NaN              NaN      NaN  English   \n",
       "62         NaN              NaN      NaN  English   \n",
       "65         NaN              NaN      NaN  English   \n",
       "76         NaN              NaN      NaN  English   \n",
       "79         NaN              NaN      NaN  English   \n",
       "\n",
       "                                              Referer  \\\n",
       "0                                                 NaN   \n",
       "1                                                 NaN   \n",
       "2                                                 NaN   \n",
       "4                                                 NaN   \n",
       "5                                                 NaN   \n",
       "8                                                 NaN   \n",
       "9                                                 NaN   \n",
       "10                                                NaN   \n",
       "20                                                NaN   \n",
       "22                                                NaN   \n",
       "52                     https://www.linkedin.com/feed/   \n",
       "62  https://www.reddit.com/r/learnprogramming/comm...   \n",
       "65  https://www.reddit.com/r/ItalyInformatica/comm...   \n",
       "76                                                NaN   \n",
       "79                                                NaN   \n",
       "\n",
       "                                     Extended Referer  \\\n",
       "0                                                 NaN   \n",
       "1                                                 NaN   \n",
       "2                                                 NaN   \n",
       "4                                                 NaN   \n",
       "5                                                 NaN   \n",
       "8                                                 NaN   \n",
       "9                                                 NaN   \n",
       "10                                                NaN   \n",
       "20                                                NaN   \n",
       "22                                                NaN   \n",
       "52                     https://www.linkedin.com/feed/   \n",
       "62  https://www.reddit.com/r/learnprogramming/comm...   \n",
       "65  https://www.reddit.com/r/ItalyInformatica/comm...   \n",
       "76                                                NaN   \n",
       "79                                                NaN   \n",
       "\n",
       "                   ...                  \\\n",
       "0                  ...                   \n",
       "1                  ...                   \n",
       "2                  ...                   \n",
       "4                  ...                   \n",
       "5                  ...                   \n",
       "8                  ...                   \n",
       "9                  ...                   \n",
       "10                 ...                   \n",
       "20                 ...                   \n",
       "22                 ...                   \n",
       "52                 ...                   \n",
       "62                 ...                   \n",
       "65                 ...                   \n",
       "76                 ...                   \n",
       "79                 ...                   \n",
       "\n",
       "                                       remarks_proto3  \\\n",
       "0                                                 NaN   \n",
       "1                                                 NaN   \n",
       "2                                                 NaN   \n",
       "4                                                 NaN   \n",
       "5                                                 NaN   \n",
       "8                                                 NaN   \n",
       "9   I think it would be nice to add an option to c...   \n",
       "10  I find this tool much easier than the first on...   \n",
       "20  This prototype basically only shows call graph...   \n",
       "22                                                NaN   \n",
       "52                                                NaN   \n",
       "62                                                NaN   \n",
       "65                                                NaN   \n",
       "76                                                NaN   \n",
       "79                                                NaN   \n",
       "\n",
       "   Do you want to evaluate another prototype?.2  PageOrder.2  \\\n",
       "0                                           Yes      1,3,4,6   \n",
       "1                                           NaN  1,3,4,7,5,6   \n",
       "2                                           NaN          NaN   \n",
       "4                                           Yes      1,3,4,6   \n",
       "5                                           Yes    1,3,4,7,6   \n",
       "8                                           Yes      1,3,4,6   \n",
       "9                                           Yes    1,3,4,5,6   \n",
       "10                                          Yes    1,3,4,5,6   \n",
       "20                                          Yes    1,3,4,7,6   \n",
       "22                                          Yes      1,3,4,6   \n",
       "52                                          NaN  1,3,4,5,7,6   \n",
       "62                                          NaN          NaN   \n",
       "65                                          NaN          NaN   \n",
       "76                                          Yes      1,3,6,6   \n",
       "79                                          NaN    1,3,7,5,6   \n",
       "\n",
       "    Prototype 1:final_ranking Prototype 2:final_ranking  \\\n",
       "0                         NaN                       NaN   \n",
       "1                         NaN                       NaN   \n",
       "2                         NaN                       NaN   \n",
       "4                         NaN                       NaN   \n",
       "5                         NaN                       NaN   \n",
       "8                         NaN                       NaN   \n",
       "9                         NaN                       NaN   \n",
       "10                        NaN                       NaN   \n",
       "20                        NaN                       NaN   \n",
       "22                        2.0                       1.0   \n",
       "52                        1.0                       3.0   \n",
       "62                        NaN                       NaN   \n",
       "65                        NaN                       NaN   \n",
       "76                        1.0                       2.0   \n",
       "79                        2.0                       1.0   \n",
       "\n",
       "    Prototype 3:final_ranking  \\\n",
       "0                         NaN   \n",
       "1                         NaN   \n",
       "2                         NaN   \n",
       "4                         NaN   \n",
       "5                         NaN   \n",
       "8                         NaN   \n",
       "9                         NaN   \n",
       "10                        NaN   \n",
       "20                        NaN   \n",
       "22                        3.0   \n",
       "52                        2.0   \n",
       "62                        NaN   \n",
       "65                        NaN   \n",
       "76                        3.0   \n",
       "79                        3.0   \n",
       "\n",
       "                                     general_comments keepinformed_results  \\\n",
       "0                                                 NaN                   No   \n",
       "1   I guess it would be valuable to have some ques...                  Yes   \n",
       "2                                                 NaN                  Yes   \n",
       "4                                                 NaN                  Yes   \n",
       "5                                                 NaN                   No   \n",
       "8                                                 NaN                  Yes   \n",
       "9                                                 NaN                  Yes   \n",
       "10                                                NaN                  Yes   \n",
       "20                                                NaN                  Yes   \n",
       "22                                                NaN                  Yes   \n",
       "52                                                NaN                   No   \n",
       "62  Why was I supposed to review prototypes? I tho...                   No   \n",
       "65                                                NaN                   No   \n",
       "76                                                NaN                   No   \n",
       "79                                                NaN                   No   \n",
       "\n",
       "   contactforadditionalquestions                        emailaddress  \n",
       "0                             No                                 NaN  \n",
       "1                            Yes            milias.vasilis@gmail.com  \n",
       "2                            Yes       c.valsamos@student.tudelft.nl  \n",
       "4                            Yes      p.omidkhoda@student.tudelft.nl  \n",
       "5                             No                                 NaN  \n",
       "8                            Yes                  gnnspap7@gmail.com  \n",
       "9                            Yes        e.fregnan@student.tudelft.nl  \n",
       "10                           Yes                    d.spadini@sig.eu  \n",
       "20                           Yes  S.Y.vandenOever@student.tudelft.nl  \n",
       "22                           Yes              saberferjani@gmail.com  \n",
       "52                            No                                 NaN  \n",
       "62                            No                                 NaN  \n",
       "65                            No                                 NaN  \n",
       "76                            No                                 NaN  \n",
       "79                            No                                 NaN  \n",
       "\n",
       "[15 rows x 127 columns]"
      ]
     },
     "execution_count": 2,
     "metadata": {},
     "output_type": "execute_result"
    }
   ],
   "source": [
    "df = pd.read_csv('20180503054542-SurveyExport.csv')\n",
    "df = df[df.Status == 'Complete']\n",
    "df"
   ]
  },
  {
   "cell_type": "markdown",
   "metadata": {},
   "source": [
    "# General"
   ]
  },
  {
   "cell_type": "code",
   "execution_count": 3,
   "metadata": {},
   "outputs": [
    {
     "name": "stdout",
     "output_type": "stream",
     "text": [
      "Number of respondants: 15, Complete: 15, Partial: 0\n"
     ]
    }
   ],
   "source": [
    "print('Number of respondants: {}, Complete: {}, Partial: {}'.format(len(df), len(df[df.Status == 'Complete']), len(df[df.Status == 'Partial'])))"
   ]
  },
  {
   "cell_type": "markdown",
   "metadata": {},
   "source": [
    "# Part 1: Demographics"
   ]
  },
  {
   "cell_type": "markdown",
   "metadata": {},
   "source": [
    "## Question 1: How long have you been doing the following activities?"
   ]
  },
  {
   "cell_type": "code",
   "execution_count": 4,
   "metadata": {},
   "outputs": [],
   "source": [
    "def plot_column_distribution(column_name, available_choices):\n",
    "    results = Counter(df[column_name].fillna('Not answered').value_counts().to_dict())\n",
    "    merged_results = OrderedDict([(k, results[k]) for k in available_choices])\n",
    "    transposed_data = list(zip(*merged_results.items()))\n",
    "    series = pd.Series(transposed_data[1], index=transposed_data[0])\n",
    "    series.plot.barh()"
   ]
  },
  {
   "cell_type": "code",
   "execution_count": 5,
   "metadata": {},
   "outputs": [],
   "source": [
    "available_choices_howlong_activities=['Never done it, so far', '1 year or less', '2 years', '3-5 years', '6-10 years', '11 years or more', 'Not answered']"
   ]
  },
  {
   "cell_type": "markdown",
   "metadata": {},
   "source": [
    "### Professional software development"
   ]
  },
  {
   "cell_type": "code",
   "execution_count": 6,
   "metadata": {},
   "outputs": [
    {
     "data": {
      "image/png": "[encoded data removed]",
      "text/plain": [
       "<Figure size 432x288 with 1 Axes>"
      ]
     },
     "metadata": {
      "needs_background": "light"
     },
     "output_type": "display_data"
    }
   ],
   "source": [
    "plot_column_distribution(\n",
    "    column_name='Professional software development:howlong_activities',\n",
    "    available_choices=available_choices_howlong_activities\n",
    ")"
   ]
  },
  {
   "cell_type": "markdown",
   "metadata": {},
   "source": [
    "### Programming"
   ]
  },
  {
   "cell_type": "code",
   "execution_count": 7,
   "metadata": {},
   "outputs": [
    {
     "data": {
      "image/png": "[encoded data removed]",
      "text/plain": [
       "<Figure size 432x288 with 1 Axes>"
      ]
     },
     "metadata": {
      "needs_background": "light"
     },
     "output_type": "display_data"
    }
   ],
   "source": [
    "plot_column_distribution(\n",
    "    column_name='Programming:howlong_activities',\n",
    "    available_choices=available_choices_howlong_activities\n",
    ")"
   ]
  },
  {
   "cell_type": "markdown",
   "metadata": {},
   "source": [
    "## Question 2: How long have you been doing the following activities?"
   ]
  },
  {
   "cell_type": "code",
   "execution_count": 8,
   "metadata": {},
   "outputs": [],
   "source": [
    "available_choices_howoften_activities=['Never', 'Yearly', 'Monthly', 'Weekly', 'Daily or more often', 'Not answered']"
   ]
  },
  {
   "cell_type": "markdown",
   "metadata": {},
   "source": [
    "### Programming"
   ]
  },
  {
   "cell_type": "code",
   "execution_count": 9,
   "metadata": {},
   "outputs": [
    {
     "data": {
      "image/png": "[encoded data removed]",
      "text/plain": [
       "<Figure size 432x288 with 1 Axes>"
      ]
     },
     "metadata": {
      "needs_background": "light"
     },
     "output_type": "display_data"
    }
   ],
   "source": [
    "plot_column_distribution(\n",
    "    column_name='Programming:howoften_activities',\n",
    "    available_choices=available_choices_howoften_activities\n",
    ")"
   ]
  },
  {
   "cell_type": "markdown",
   "metadata": {},
   "source": [
    "### Code reviewing"
   ]
  },
  {
   "cell_type": "code",
   "execution_count": 10,
   "metadata": {},
   "outputs": [
    {
     "data": {
      "image/png": "[encoded data removed]",
      "text/plain": [
       "<Figure size 432x288 with 1 Axes>"
      ]
     },
     "metadata": {
      "needs_background": "light"
     },
     "output_type": "display_data"
    }
   ],
   "source": [
    "plot_column_distribution(\n",
    "    column_name='Code reviewing:howoften_activities',\n",
    "    available_choices=available_choices_howoften_activities\n",
    ")"
   ]
  },
  {
   "cell_type": "markdown",
   "metadata": {},
   "source": [
    "## Question 3: what setting do you work in?"
   ]
  },
  {
   "cell_type": "code",
   "execution_count": 11,
   "metadata": {},
   "outputs": [
    {
     "data": {
      "text/plain": [
       "<matplotlib.axes._subplots.AxesSubplot at 0x7f8268efeeb8>"
      ]
     },
     "execution_count": 11,
     "metadata": {},
     "output_type": "execute_result"
    },
    {
     "data": {
      "image/png": "[encoded data removed]",
      "text/plain": [
       "<Figure size 432x288 with 1 Axes>"
      ]
     },
     "metadata": {
      "needs_background": "light"
     },
     "output_type": "display_data"
    }
   ],
   "source": [
    "results_setting = df[['Open source:whatsetting', 'Industry, proprietary:whatsetting']].fillna('No').apply(tuple, axis=1).value_counts().to_dict()\n",
    "mapping_setting = {\n",
    "    ('Open source', 'Industry, proprietary'): 'Open source + Industry, proprietary',\n",
    "    ('Open source', 'No'): 'Open source only',\n",
    "    ('No', 'Industry, proprietary'): 'Industry, proprietary only',\n",
    "    ('No', 'No'): 'Not answered'\n",
    "}\n",
    "results_setting = {mapping_setting[k]: v for k, v in results_setting.items()}\n",
    "pd.Series(results_setting).plot.barh()"
   ]
  },
  {
   "cell_type": "markdown",
   "metadata": {},
   "source": [
    "## Question 4: which company do you work for?"
   ]
  },
  {
   "cell_type": "code",
   "execution_count": 12,
   "metadata": {},
   "outputs": [
    {
     "data": {
      "text/plain": [
       "<matplotlib.axes._subplots.AxesSubplot at 0x7f8268ee7438>"
      ]
     },
     "execution_count": 12,
     "metadata": {},
     "output_type": "execute_result"
    },
    {
     "data": {
      "image/png": "[encoded data removed]",
      "text/plain": [
       "<Figure size 360x720 with 1 Axes>"
      ]
     },
     "metadata": {
      "needs_background": "light"
     },
     "output_type": "display_data"
    }
   ],
   "source": [
    "companies = [item for sublist in df['whatcompany'].fillna('Not answered').str.split(';').tolist() for item in sublist]\n",
    "pd.Series(Counter(companies)).plot.barh(figsize=(5,10))"
   ]
  },
  {
   "cell_type": "markdown",
   "metadata": {},
   "source": [
    "## Question 5: which open source project do you work on?"
   ]
  },
  {
   "cell_type": "code",
   "execution_count": 13,
   "metadata": {},
   "outputs": [
    {
     "data": {
      "text/plain": [
       "<matplotlib.axes._subplots.AxesSubplot at 0x7f8268e46320>"
      ]
     },
     "execution_count": 13,
     "metadata": {},
     "output_type": "execute_result"
    },
    {
     "data": {
      "image/png": "[encoded data removed]",
      "text/plain": [
       "<Figure size 432x288 with 1 Axes>"
      ]
     },
     "metadata": {
      "needs_background": "light"
     },
     "output_type": "display_data"
    }
   ],
   "source": [
    "opensourceprojects = [item for sublist in df['whichopensource'].fillna('Not answered').str.split(';').tolist() for item in sublist]\n",
    "pd.Series(Counter(opensourceprojects)).plot.barh()"
   ]
  },
  {
   "cell_type": "markdown",
   "metadata": {},
   "source": [
    "## Question 6: which of the following best describes your primary work area?"
   ]
  },
  {
   "cell_type": "code",
   "execution_count": 14,
   "metadata": {},
   "outputs": [],
   "source": [
    "def plot_checkboxes_distribution(ref_name, options):\n",
    "    series = df[['{}:{}'.format(option, ref_name) for option in options]].notnull().sum()\n",
    "    series.index = ([x.split(':')[0] for x in series.index])\n",
    "    series.plot.barh()"
   ]
  },
  {
   "cell_type": "code",
   "execution_count": 15,
   "metadata": {},
   "outputs": [
    {
     "data": {
      "image/png": "[encoded data removed]",
      "text/plain": [
       "<Figure size 432x288 with 1 Axes>"
      ]
     },
     "metadata": {
      "needs_background": "light"
     },
     "output_type": "display_data"
    }
   ],
   "source": [
    "plot_checkboxes_distribution(\n",
    "    'primaryworkarea',\n",
    "    ['Development', 'Test', 'Visual Design', 'Documentation', 'Product Support', 'Management and Administration', 'Research', 'Other - Write In (Required)']\n",
    ")"
   ]
  },
  {
   "cell_type": "markdown",
   "metadata": {},
   "source": [
    "#### Which are the \"other\" primary work areas?"
   ]
  },
  {
   "cell_type": "code",
   "execution_count": 16,
   "metadata": {},
   "outputs": [
    {
     "data": {
      "text/plain": [
       "<matplotlib.axes._subplots.AxesSubplot at 0x7f8268d8fa58>"
      ]
     },
     "execution_count": 16,
     "metadata": {},
     "output_type": "execute_result"
    },
    {
     "data": {
      "image/png": "[encoded data removed]",
      "text/plain": [
       "<Figure size 432x288 with 1 Axes>"
      ]
     },
     "metadata": {
      "needs_background": "light"
     },
     "output_type": "display_data"
    }
   ],
   "source": [
    "df['Other - Write In (Required):primaryworkarea.1'].fillna('Not answered').value_counts().plot.barh()"
   ]
  },
  {
   "cell_type": "markdown",
   "metadata": {},
   "source": [
    "## Question 7: how many developers are in your immediate team?"
   ]
  },
  {
   "cell_type": "code",
   "execution_count": 17,
   "metadata": {},
   "outputs": [
    {
     "ename": "AttributeError",
     "evalue": "Can only use .str accessor with string values, which use np.object_ dtype in pandas",
     "output_type": "error",
     "traceback": [
      "\u001b[0;31m---------------------------------------------------------------------------\u001b[0m",
      "\u001b[0;31mAttributeError\u001b[0m                            Traceback (most recent call last)",
      "\u001b[0;32m<ipython-input-17-0a4e2a55fb7b>\u001b[0m in \u001b[0;36m<module>\u001b[0;34m\u001b[0m\n\u001b[1;32m      1\u001b[0m \u001b[0mdf_howmanydevs\u001b[0m \u001b[0;34m=\u001b[0m \u001b[0mdf\u001b[0m\u001b[0;34m[\u001b[0m\u001b[0;34m'howmany_developers'\u001b[0m\u001b[0;34m]\u001b[0m\u001b[0;34m.\u001b[0m\u001b[0mfillna\u001b[0m\u001b[0;34m(\u001b[0m\u001b[0;34m'Not answered'\u001b[0m\u001b[0;34m)\u001b[0m\u001b[0;34m.\u001b[0m\u001b[0mvalue_counts\u001b[0m\u001b[0;34m(\u001b[0m\u001b[0;34m)\u001b[0m\u001b[0;34m\u001b[0m\u001b[0;34m\u001b[0m\u001b[0m\n\u001b[1;32m      2\u001b[0m \u001b[0mdf_howmanydevs_index\u001b[0m \u001b[0;34m=\u001b[0m \u001b[0mdf_howmanydevs\u001b[0m\u001b[0;34m.\u001b[0m\u001b[0mindex\u001b[0m\u001b[0;34m.\u001b[0m\u001b[0mto_series\u001b[0m\u001b[0;34m(\u001b[0m\u001b[0;34m)\u001b[0m\u001b[0;34m\u001b[0m\u001b[0;34m\u001b[0m\u001b[0m\n\u001b[0;32m----> 3\u001b[0;31m \u001b[0mhowmanydevs_newindex\u001b[0m \u001b[0;34m=\u001b[0m \u001b[0mdf_howmanydevs_index\u001b[0m\u001b[0;34m[\u001b[0m\u001b[0mdf_howmanydevs_index\u001b[0m\u001b[0;34m.\u001b[0m\u001b[0mstr\u001b[0m\u001b[0;34m.\u001b[0m\u001b[0misnumeric\u001b[0m\u001b[0;34m(\u001b[0m\u001b[0;34m)\u001b[0m\u001b[0;34m.\u001b[0m\u001b[0mfillna\u001b[0m\u001b[0;34m(\u001b[0m\u001b[0;32mTrue\u001b[0m\u001b[0;34m)\u001b[0m\u001b[0;34m]\u001b[0m\u001b[0;34m.\u001b[0m\u001b[0msort_values\u001b[0m\u001b[0;34m(\u001b[0m\u001b[0;34m)\u001b[0m\u001b[0;34m.\u001b[0m\u001b[0mtolist\u001b[0m\u001b[0;34m(\u001b[0m\u001b[0;34m)\u001b[0m\u001b[0;34m\u001b[0m\u001b[0;34m\u001b[0m\u001b[0m\n\u001b[0m\u001b[1;32m      4\u001b[0m \u001b[0mhowmanydevs_newindex\u001b[0m\u001b[0;34m.\u001b[0m\u001b[0mappend\u001b[0m\u001b[0;34m(\u001b[0m\u001b[0;34m'Not answered'\u001b[0m\u001b[0;34m)\u001b[0m\u001b[0;34m\u001b[0m\u001b[0;34m\u001b[0m\u001b[0m\n\u001b[1;32m      5\u001b[0m \u001b[0mdf_howmanydevs\u001b[0m\u001b[0;34m.\u001b[0m\u001b[0mreindex\u001b[0m\u001b[0;34m(\u001b[0m\u001b[0mhowmanydevs_newindex\u001b[0m\u001b[0;34m)\u001b[0m\u001b[0;34m.\u001b[0m\u001b[0mplot\u001b[0m\u001b[0;34m.\u001b[0m\u001b[0mbarh\u001b[0m\u001b[0;34m(\u001b[0m\u001b[0;34m)\u001b[0m\u001b[0;34m\u001b[0m\u001b[0;34m\u001b[0m\u001b[0m\n",
      "\u001b[0;32m~/.local/lib/python3.6/site-packages/pandas/core/generic.py\u001b[0m in \u001b[0;36m__getattr__\u001b[0;34m(self, name)\u001b[0m\n\u001b[1;32m   4370\u001b[0m         if (name in self._internal_names_set or name in self._metadata or\n\u001b[1;32m   4371\u001b[0m                 name in self._accessors):\n\u001b[0;32m-> 4372\u001b[0;31m             \u001b[0;32mreturn\u001b[0m \u001b[0mobject\u001b[0m\u001b[0;34m.\u001b[0m\u001b[0m__getattribute__\u001b[0m\u001b[0;34m(\u001b[0m\u001b[0mself\u001b[0m\u001b[0;34m,\u001b[0m \u001b[0mname\u001b[0m\u001b[0;34m)\u001b[0m\u001b[0;34m\u001b[0m\u001b[0;34m\u001b[0m\u001b[0m\n\u001b[0m\u001b[1;32m   4373\u001b[0m         \u001b[0;32melse\u001b[0m\u001b[0;34m:\u001b[0m\u001b[0;34m\u001b[0m\u001b[0;34m\u001b[0m\u001b[0m\n\u001b[1;32m   4374\u001b[0m             \u001b[0;32mif\u001b[0m \u001b[0mself\u001b[0m\u001b[0;34m.\u001b[0m\u001b[0m_info_axis\u001b[0m\u001b[0;34m.\u001b[0m\u001b[0m_can_hold_identifiers_and_holds_name\u001b[0m\u001b[0;34m(\u001b[0m\u001b[0mname\u001b[0m\u001b[0;34m)\u001b[0m\u001b[0;34m:\u001b[0m\u001b[0;34m\u001b[0m\u001b[0;34m\u001b[0m\u001b[0m\n",
      "\u001b[0;32m~/.local/lib/python3.6/site-packages/pandas/core/accessor.py\u001b[0m in \u001b[0;36m__get__\u001b[0;34m(self, obj, cls)\u001b[0m\n\u001b[1;32m    131\u001b[0m             \u001b[0;31m# we're accessing the attribute of the class, i.e., Dataset.geo\u001b[0m\u001b[0;34m\u001b[0m\u001b[0;34m\u001b[0m\u001b[0;34m\u001b[0m\u001b[0m\n\u001b[1;32m    132\u001b[0m             \u001b[0;32mreturn\u001b[0m \u001b[0mself\u001b[0m\u001b[0;34m.\u001b[0m\u001b[0m_accessor\u001b[0m\u001b[0;34m\u001b[0m\u001b[0;34m\u001b[0m\u001b[0m\n\u001b[0;32m--> 133\u001b[0;31m         \u001b[0maccessor_obj\u001b[0m \u001b[0;34m=\u001b[0m \u001b[0mself\u001b[0m\u001b[0;34m.\u001b[0m\u001b[0m_accessor\u001b[0m\u001b[0;34m(\u001b[0m\u001b[0mobj\u001b[0m\u001b[0;34m)\u001b[0m\u001b[0;34m\u001b[0m\u001b[0;34m\u001b[0m\u001b[0m\n\u001b[0m\u001b[1;32m    134\u001b[0m         \u001b[0;31m# Replace the property with the accessor object. Inspired by:\u001b[0m\u001b[0;34m\u001b[0m\u001b[0;34m\u001b[0m\u001b[0;34m\u001b[0m\u001b[0m\n\u001b[1;32m    135\u001b[0m         \u001b[0;31m# http://www.pydanny.com/cached-property.html\u001b[0m\u001b[0;34m\u001b[0m\u001b[0;34m\u001b[0m\u001b[0;34m\u001b[0m\u001b[0m\n",
      "\u001b[0;32m~/.local/lib/python3.6/site-packages/pandas/core/strings.py\u001b[0m in \u001b[0;36m__init__\u001b[0;34m(self, data)\u001b[0m\n\u001b[1;32m   1893\u001b[0m \u001b[0;34m\u001b[0m\u001b[0m\n\u001b[1;32m   1894\u001b[0m     \u001b[0;32mdef\u001b[0m \u001b[0m__init__\u001b[0m\u001b[0;34m(\u001b[0m\u001b[0mself\u001b[0m\u001b[0;34m,\u001b[0m \u001b[0mdata\u001b[0m\u001b[0;34m)\u001b[0m\u001b[0;34m:\u001b[0m\u001b[0;34m\u001b[0m\u001b[0;34m\u001b[0m\u001b[0m\n\u001b[0;32m-> 1895\u001b[0;31m         \u001b[0mself\u001b[0m\u001b[0;34m.\u001b[0m\u001b[0m_validate\u001b[0m\u001b[0;34m(\u001b[0m\u001b[0mdata\u001b[0m\u001b[0;34m)\u001b[0m\u001b[0;34m\u001b[0m\u001b[0;34m\u001b[0m\u001b[0m\n\u001b[0m\u001b[1;32m   1896\u001b[0m         \u001b[0mself\u001b[0m\u001b[0;34m.\u001b[0m\u001b[0m_is_categorical\u001b[0m \u001b[0;34m=\u001b[0m \u001b[0mis_categorical_dtype\u001b[0m\u001b[0;34m(\u001b[0m\u001b[0mdata\u001b[0m\u001b[0;34m)\u001b[0m\u001b[0;34m\u001b[0m\u001b[0;34m\u001b[0m\u001b[0m\n\u001b[1;32m   1897\u001b[0m \u001b[0;34m\u001b[0m\u001b[0m\n",
      "\u001b[0;32m~/.local/lib/python3.6/site-packages/pandas/core/strings.py\u001b[0m in \u001b[0;36m_validate\u001b[0;34m(data)\u001b[0m\n\u001b[1;32m   1915\u001b[0m             \u001b[0;31m# (instead of test for object dtype), but that isn't practical for\u001b[0m\u001b[0;34m\u001b[0m\u001b[0;34m\u001b[0m\u001b[0;34m\u001b[0m\u001b[0m\n\u001b[1;32m   1916\u001b[0m             \u001b[0;31m# performance reasons until we have a str dtype (GH 9343)\u001b[0m\u001b[0;34m\u001b[0m\u001b[0;34m\u001b[0m\u001b[0;34m\u001b[0m\u001b[0m\n\u001b[0;32m-> 1917\u001b[0;31m             raise AttributeError(\"Can only use .str accessor with string \"\n\u001b[0m\u001b[1;32m   1918\u001b[0m                                  \u001b[0;34m\"values, which use np.object_ dtype in \"\u001b[0m\u001b[0;34m\u001b[0m\u001b[0;34m\u001b[0m\u001b[0m\n\u001b[1;32m   1919\u001b[0m                                  \"pandas\")\n",
      "\u001b[0;31mAttributeError\u001b[0m: Can only use .str accessor with string values, which use np.object_ dtype in pandas"
     ]
    }
   ],
   "source": [
    "df_howmanydevs = df['howmany_developers'].fillna('Not answered').value_counts()\n",
    "df_howmanydevs_index = df_howmanydevs.index.to_series()\n",
    "howmanydevs_newindex = df_howmanydevs_index[df_howmanydevs_index.str.isnumeric().fillna(True)].sort_values().tolist()\n",
    "howmanydevs_newindex.append('Not answered')\n",
    "df_howmanydevs.reindex(howmanydevs_newindex).plot.barh()"
   ]
  },
  {
   "cell_type": "markdown",
   "metadata": {},
   "source": [
    "## Question 8: which code review tool(s)/environment(s) do you use?"
   ]
  },
  {
   "cell_type": "code",
   "execution_count": 18,
   "metadata": {},
   "outputs": [
    {
     "data": {
      "image/png": "[encoded data removed]",
      "text/plain": [
       "<Figure size 432x288 with 1 Axes>"
      ]
     },
     "metadata": {
      "needs_background": "light"
     },
     "output_type": "display_data"
    }
   ],
   "source": [
    "plot_checkboxes_distribution(\n",
    "    'whichcodereview_tools',\n",
    "    ['Gerrit', 'Atlassian Crucible', 'Atlassian Bitbucket Server (formerly Stash)', 'JetBrains Upsource',\n",
    "     'SmartBear Collaborator', 'ReviewClipse', 'Microsoft CodeFlow', 'Github Pull Requests', 'Phabricator',\n",
    "     'Gitlab', 'General software development tools (IDE, SCM, ticket system / bug tracker)',\n",
    "     'Other - Write In (Required)']\n",
    ")"
   ]
  },
  {
   "cell_type": "markdown",
   "metadata": {},
   "source": [
    "#### Which are the \"other\" code review tools?"
   ]
  },
  {
   "cell_type": "code",
   "execution_count": 19,
   "metadata": {},
   "outputs": [
    {
     "data": {
      "text/plain": [
       "<matplotlib.axes._subplots.AxesSubplot at 0x7f8268b12630>"
      ]
     },
     "execution_count": 19,
     "metadata": {},
     "output_type": "execute_result"
    },
    {
     "data": {
      "image/png": "[encoded data removed]",
      "text/plain": [
       "<Figure size 432x288 with 1 Axes>"
      ]
     },
     "metadata": {
      "needs_background": "light"
     },
     "output_type": "display_data"
    }
   ],
   "source": [
    "df['Other - Write In (Required):whichcodereview_tools.1'].fillna('Not answered').value_counts().plot.barh()"
   ]
  },
  {
   "cell_type": "markdown",
   "metadata": {},
   "source": [
    "## Question 9: how satisfied are you with your code review environment?"
   ]
  },
  {
   "cell_type": "code",
   "execution_count": 20,
   "metadata": {},
   "outputs": [
    {
     "data": {
      "image/png": "[encoded data removed]",
      "text/plain": [
       "<Figure size 432x288 with 1 Axes>"
      ]
     },
     "metadata": {
      "needs_background": "light"
     },
     "output_type": "display_data"
    }
   ],
   "source": [
    "plot_column_distribution(\n",
    "    column_name='howsatisfied_codereview',\n",
    "    available_choices=['Completely dissatisfied', 'Mostly dissatisfied', 'Somewhat dissatisfied', 'Neither satisfied or dissatisfied', 'Somewhat satisfied', 'Mostly satisfied', 'Completely satisfied']\n",
    ")"
   ]
  },
  {
   "cell_type": "markdown",
   "metadata": {},
   "source": [
    "## Question 10: what are the main reasons why you are not satisfied with your code review tool?"
   ]
  },
  {
   "cell_type": "code",
   "execution_count": 21,
   "metadata": {},
   "outputs": [
    {
     "name": "stdout",
     "output_type": "stream",
     "text": [
      "10 - Navigation between files is difficult - The order of the files is alphabetical (that doesn't make sense) - lack of context\n",
      "20 Big pull requests are hard to grasp; files are typically in alphabetical order and it's difficult to see the structure from a long list of file changes.\n"
     ]
    }
   ],
   "source": [
    "for index, reason in df['What are the main reasons why you are not satisfied with your code review tool?'].dropna().iteritems():\n",
    "    print(index, reason)"
   ]
  },
  {
   "cell_type": "markdown",
   "metadata": {},
   "source": [
    "# Part 2: prototypes evaluation"
   ]
  },
  {
   "cell_type": "markdown",
   "metadata": {},
   "source": [
    "## Usability scores"
   ]
  },
  {
   "cell_type": "code",
   "execution_count": 22,
   "metadata": {},
   "outputs": [],
   "source": [
    "def score_prototypes(row):\n",
    "    sus_questions = {\n",
    "        'positive': [\n",
    "            'I think that I would like to use this tool frequently.',\n",
    "            'I thought this tool was easy to use.',\n",
    "            'I found that the various functions in this tool were well integrated.',\n",
    "            'I would imagine that most people would learn to use this tool very quickly.'\n",
    "        ],\n",
    "        'negative': [\n",
    "            'I think that I would need assistance to be able to use this tool.',\n",
    "            'I thought there was too much inconsistency in this tool.',\n",
    "            'I found this tool unnecessarily complex.',\n",
    "            'I found this tool very cumbersome/awkward to use.'\n",
    "        ]\n",
    "    }\n",
    "    score_mapping = {\n",
    "        'Strongly Disagree': 0,\n",
    "        'Disagree': 1,\n",
    "        'Neither': 2,\n",
    "        'Agree': 3,\n",
    "        'Strongly Agree': 4\n",
    "    }\n",
    "    scores = {}\n",
    "    for proto_index in range(1, 4):\n",
    "        proto_keyword = 'usability_proto{}'.format(proto_index)\n",
    "        positive_cols = row[['{}:{}'.format(question, proto_keyword) for question in (sus_questions['positive'])]]\n",
    "        negative_cols = row[['{}:{}'.format(question, proto_keyword) for question in (sus_questions['negative'])]]\n",
    "        if (positive_cols.isnull().sum() > 0 or negative_cols.isnull().sum() > 0):\n",
    "            scores[proto_index] = None\n",
    "            continue\n",
    "        valid_answers_count = (positive_cols != \"I don't know\").sum() + (negative_cols != \"I don't know\").sum()\n",
    "        positive_score = sum([score_mapping[answer] for answer in positive_cols[positive_cols != \"I don't know\"].values])\n",
    "        negative_score = sum([4 - score_mapping[answer] for answer in negative_cols[negative_cols != \"I don't know\"].values])\n",
    "        normalized_score = (positive_score + negative_score) * (100 / (valid_answers_count * 4))\n",
    "        scores[proto_index] = normalized_score\n",
    "    return tuple([s[1] for s in sorted(scores.items(), key=lambda s: s[0])])"
   ]
  },
  {
   "cell_type": "code",
   "execution_count": 23,
   "metadata": {},
   "outputs": [],
   "source": [
    "df['score_proto1'], df['score_proto2'], df['score_proto3'] = zip(*df.apply(score_prototypes, axis=1))"
   ]
  },
  {
   "cell_type": "code",
   "execution_count": 25,
   "metadata": {},
   "outputs": [
    {
     "data": {
      "text/html": [
       "<div>\n",
       "<style scoped>\n",
       "    .dataframe tbody tr th:only-of-type {\n",
       "        vertical-align: middle;\n",
       "    }\n",
       "\n",
       "    .dataframe tbody tr th {\n",
       "        vertical-align: top;\n",
       "    }\n",
       "\n",
       "    .dataframe thead th {\n",
       "        text-align: right;\n",
       "    }\n",
       "</style>\n",
       "<table border=\"1\" class=\"dataframe\">\n",
       "  <thead>\n",
       "    <tr style=\"text-align: right;\">\n",
       "      <th></th>\n",
       "      <th>score_proto1</th>\n",
       "      <th>score_proto2</th>\n",
       "      <th>score_proto3</th>\n",
       "    </tr>\n",
       "  </thead>\n",
       "  <tbody>\n",
       "    <tr>\n",
       "      <th>0</th>\n",
       "      <td>96.875000</td>\n",
       "      <td>65.625000</td>\n",
       "      <td>78.125</td>\n",
       "    </tr>\n",
       "    <tr>\n",
       "      <th>1</th>\n",
       "      <td>71.875000</td>\n",
       "      <td>75.000000</td>\n",
       "      <td>78.125</td>\n",
       "    </tr>\n",
       "    <tr>\n",
       "      <th>2</th>\n",
       "      <td>56.250000</td>\n",
       "      <td>NaN</td>\n",
       "      <td>NaN</td>\n",
       "    </tr>\n",
       "    <tr>\n",
       "      <th>4</th>\n",
       "      <td>84.375000</td>\n",
       "      <td>59.375000</td>\n",
       "      <td>78.125</td>\n",
       "    </tr>\n",
       "    <tr>\n",
       "      <th>5</th>\n",
       "      <td>100.000000</td>\n",
       "      <td>71.428571</td>\n",
       "      <td>12.500</td>\n",
       "    </tr>\n",
       "    <tr>\n",
       "      <th>8</th>\n",
       "      <td>46.875000</td>\n",
       "      <td>78.125000</td>\n",
       "      <td>81.250</td>\n",
       "    </tr>\n",
       "    <tr>\n",
       "      <th>9</th>\n",
       "      <td>53.125000</td>\n",
       "      <td>71.875000</td>\n",
       "      <td>93.750</td>\n",
       "    </tr>\n",
       "    <tr>\n",
       "      <th>10</th>\n",
       "      <td>46.875000</td>\n",
       "      <td>40.625000</td>\n",
       "      <td>68.750</td>\n",
       "    </tr>\n",
       "    <tr>\n",
       "      <th>20</th>\n",
       "      <td>65.625000</td>\n",
       "      <td>81.250000</td>\n",
       "      <td>50.000</td>\n",
       "    </tr>\n",
       "    <tr>\n",
       "      <th>22</th>\n",
       "      <td>62.500000</td>\n",
       "      <td>81.250000</td>\n",
       "      <td>71.875</td>\n",
       "    </tr>\n",
       "    <tr>\n",
       "      <th>52</th>\n",
       "      <td>70.000000</td>\n",
       "      <td>55.000000</td>\n",
       "      <td>70.000</td>\n",
       "    </tr>\n",
       "    <tr>\n",
       "      <th>62</th>\n",
       "      <td>42.857143</td>\n",
       "      <td>NaN</td>\n",
       "      <td>NaN</td>\n",
       "    </tr>\n",
       "    <tr>\n",
       "      <th>65</th>\n",
       "      <td>NaN</td>\n",
       "      <td>34.375000</td>\n",
       "      <td>NaN</td>\n",
       "    </tr>\n",
       "    <tr>\n",
       "      <th>76</th>\n",
       "      <td>40.625000</td>\n",
       "      <td>8.333333</td>\n",
       "      <td>81.250</td>\n",
       "    </tr>\n",
       "    <tr>\n",
       "      <th>79</th>\n",
       "      <td>71.875000</td>\n",
       "      <td>78.125000</td>\n",
       "      <td>34.375</td>\n",
       "    </tr>\n",
       "  </tbody>\n",
       "</table>\n",
       "</div>"
      ],
      "text/plain": [
       "    score_proto1  score_proto2  score_proto3\n",
       "0      96.875000     65.625000        78.125\n",
       "1      71.875000     75.000000        78.125\n",
       "2      56.250000           NaN           NaN\n",
       "4      84.375000     59.375000        78.125\n",
       "5     100.000000     71.428571        12.500\n",
       "8      46.875000     78.125000        81.250\n",
       "9      53.125000     71.875000        93.750\n",
       "10     46.875000     40.625000        68.750\n",
       "20     65.625000     81.250000        50.000\n",
       "22     62.500000     81.250000        71.875\n",
       "52     70.000000     55.000000        70.000\n",
       "62     42.857143           NaN           NaN\n",
       "65           NaN     34.375000           NaN\n",
       "76     40.625000      8.333333        81.250\n",
       "79     71.875000     78.125000        34.375"
      ]
     },
     "execution_count": 25,
     "metadata": {},
     "output_type": "execute_result"
    }
   ],
   "source": [
    "df[['score_proto1', 'score_proto2', 'score_proto3']].astype('float')"
   ]
  },
  {
   "cell_type": "code",
   "execution_count": 74,
   "metadata": {},
   "outputs": [
    {
     "data": {
      "image/png": "[encoded data removed]",
      "text/plain": [
       "<Figure size 432x432 with 1 Axes>"
      ]
     },
     "metadata": {
      "needs_background": "light"
     },
     "output_type": "display_data"
    }
   ],
   "source": [
    "plt.rc('xtick',labelsize=14)\n",
    "plt.rc('ytick',labelsize=14)\n",
    "plt.rc('axes',labelsize=14)\n",
    "ch = df[['score_proto1', 'score_proto2', 'score_proto3']].astype('float').boxplot(figsize=(6,6))\n",
    "ch.set_ylabel('SUS score')\n",
    "ch.set_yticks(np.arange(0, 101, 10))\n",
    "ch.set_xticklabels(['Prototype 1', 'Prototype 2', 'Prototype 3'])\n",
    "plt.savefig('/home/joined/Desktop/selection_sus.png', dpi=300, bbox_inches='tight')"
   ]
  },
  {
   "cell_type": "markdown",
   "metadata": {},
   "source": [
    "## Comments"
   ]
  },
  {
   "cell_type": "code",
   "execution_count": 75,
   "metadata": {},
   "outputs": [
    {
     "name": "stdout",
     "output_type": "stream",
     "text": [
      "Prototype number: 1, Index: 2, Comment: It's really useful to have the change details in case there are a lot of changes that are hard to keep track of in the overview window.\n",
      "Prototype number: 1, Index: 5, Comment: Already want to try this one :)\n",
      "Prototype number: 1, Index: 10, Comment: The prototype is too complex. When reviewing, what I would like to see is old code, new code. That's it. All the fancy information (like filter by added lines, or the structure of code) are not my primary: the code is. So even though it could be useful to have this kind of information, presenting them in the first page it's not a good idea IMHO.\n",
      "Prototype number: 1, Index: 20, Comment: The tool looks complex, but contains a lot of valuable info\n",
      "Prototype number: 1, Index: 52, Comment: The main advantage that I see of using the tool is that you can get a complete overview of all the elements that have been touched grouped by type/level, which you don't see directly when using diffs.\n",
      "Prototype number: 1, Index: 62, Comment: Why is this a CR tool? When I want to do a CR I only need the diffs.  But something like this tool could be useful for tracking state changes in the program for specific calls in order to spot flawed designs.\n",
      "Prototype number: 1, Index: 76, Comment: Giving a visual representation of the changes can be interesting to understand at a first glance a lot of the characteristic of the change. But I also believe that it will take time before a user will find it natural, so I believe this tool will have a steeper learning curve compared with the previous one.\n",
      "Prototype number: 2, Index: 1, Comment: Maybe add an option to be able to view only the changes (and history) that I have made? E.g. only classes that I have submitted code for (even after my submissions, how has \"my\" code evolved).\n",
      "Prototype number: 2, Index: 5, Comment: Usually I want to be focused on changes in code and context of how this code is called is not needed that often\n",
      "Prototype number: 2, Index: 10, Comment: As I said for the first tool, the primary information that I want is the code, while the structure is as support. Presenting it as the most important thing is wrong and I wouldn't use it.\n",
      "Prototype number: 2, Index: 20, Comment: The arrows refer to callees of modified methods, but multiple methods can be changed within a class. So then hovering the arrow will give output for all of the methods? (Showing all callees of all methods)\n",
      "Prototype number: 2, Index: 52, Comment: Good addition to see the relationship between different entities as well.\n",
      "Prototype number: 3, Index: 9, Comment: I think it would be nice to add an option to close the two callee and callers bars when comparing two classes. In this way, the user can have a better view of the two classes code. Then, if he wants, he can reopen the two side bars and continue the navigation in the tool.\n",
      "Prototype number: 3, Index: 10, Comment: I find this tool much easier than the first one. However, from the video many things were unclear so it's quite difficult to judge. But I guess that the idea of having callers and callees is quite nice. \n",
      "Prototype number: 3, Index: 20, Comment: This prototype basically only shows call graphs. I think the other prototype shows more useful information (suggestions for context analysis and how different classes relate to oneother).\n"
     ]
    }
   ],
   "source": [
    "for i in range(1, 4):\n",
    "    for index, item in df['remarks_proto{}'.format(i)].dropna().iteritems():\n",
    "        print('Prototype number: {}, Index: {}, Comment: {}'.format(i, index, item))"
   ]
  },
  {
   "cell_type": "markdown",
   "metadata": {},
   "source": [
    "## Part 3: ranking"
   ]
  },
  {
   "cell_type": "code",
   "execution_count": 27,
   "metadata": {},
   "outputs": [
    {
     "data": {
      "text/html": [
       "<div>\n",
       "<style scoped>\n",
       "    .dataframe tbody tr th:only-of-type {\n",
       "        vertical-align: middle;\n",
       "    }\n",
       "\n",
       "    .dataframe tbody tr th {\n",
       "        vertical-align: top;\n",
       "    }\n",
       "\n",
       "    .dataframe thead th {\n",
       "        text-align: right;\n",
       "    }\n",
       "</style>\n",
       "<table border=\"1\" class=\"dataframe\">\n",
       "  <thead>\n",
       "    <tr style=\"text-align: right;\">\n",
       "      <th></th>\n",
       "      <th>Prototype 1:final_ranking</th>\n",
       "      <th>Prototype 2:final_ranking</th>\n",
       "      <th>Prototype 3:final_ranking</th>\n",
       "    </tr>\n",
       "  </thead>\n",
       "  <tbody>\n",
       "    <tr>\n",
       "      <th>22</th>\n",
       "      <td>2</td>\n",
       "      <td>1</td>\n",
       "      <td>3</td>\n",
       "    </tr>\n",
       "    <tr>\n",
       "      <th>44</th>\n",
       "      <td>1</td>\n",
       "      <td>2</td>\n",
       "      <td>3</td>\n",
       "    </tr>\n",
       "    <tr>\n",
       "      <th>52</th>\n",
       "      <td>1</td>\n",
       "      <td>3</td>\n",
       "      <td>2</td>\n",
       "    </tr>\n",
       "    <tr>\n",
       "      <th>76</th>\n",
       "      <td>1</td>\n",
       "      <td>2</td>\n",
       "      <td>3</td>\n",
       "    </tr>\n",
       "    <tr>\n",
       "      <th>79</th>\n",
       "      <td>2</td>\n",
       "      <td>1</td>\n",
       "      <td>3</td>\n",
       "    </tr>\n",
       "  </tbody>\n",
       "</table>\n",
       "</div>"
      ],
      "text/plain": [
       "    Prototype 1:final_ranking  Prototype 2:final_ranking  \\\n",
       "22                          2                          1   \n",
       "44                          1                          2   \n",
       "52                          1                          3   \n",
       "76                          1                          2   \n",
       "79                          2                          1   \n",
       "\n",
       "    Prototype 3:final_ranking  \n",
       "22                          3  \n",
       "44                          3  \n",
       "52                          2  \n",
       "76                          3  \n",
       "79                          3  "
      ]
     },
     "execution_count": 27,
     "metadata": {},
     "output_type": "execute_result"
    }
   ],
   "source": [
    "ranking_columns = ['Prototype {}:final_ranking'.format(i) for i in range(1, 4)]\n",
    "df.dropna(subset=ranking_columns)[ranking_columns].astype('int')"
   ]
  },
  {
   "cell_type": "markdown",
   "metadata": {},
   "source": [
    "# Part 4: final remarks"
   ]
  },
  {
   "cell_type": "code",
   "execution_count": 28,
   "metadata": {},
   "outputs": [
    {
     "name": "stdout",
     "output_type": "stream",
     "text": [
      "1 I guess it would be valuable to have some questions in the end (after I have seen all the prototypes) to bee able to actually compare them, and answer the questions after I have seen everything.\n",
      "62 Why was I supposed to review prototypes? I though this survey was about code reviews.\n"
     ]
    }
   ],
   "source": [
    "for index, item in df['general_comments'].dropna().iteritems():\n",
    "    print(index, item)"
   ]
  }
 ],
 "metadata": {
  "kernelspec": {
   "display_name": "Python 3",
   "language": "python",
   "name": "python3"
  },
  "language_info": {
   "codemirror_mode": {
    "name": "ipython",
    "version": 3
   },
   "file_extension": ".py",
   "mimetype": "text/x-python",
   "name": "python",
   "nbconvert_exporter": "python",
   "pygments_lexer": "ipython3",
   "version": "3.6.7"
  }
 },
 "nbformat": 4,
 "nbformat_minor": 2
}
